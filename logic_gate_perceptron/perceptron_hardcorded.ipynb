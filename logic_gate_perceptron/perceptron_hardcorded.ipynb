{
 "cells": [
  {
   "cell_type": "code",
   "execution_count": 1,
   "id": "4177c4c6",
   "metadata": {},
   "outputs": [],
   "source": [
    "import numpy as np"
   ]
  },
  {
   "cell_type": "code",
   "execution_count": 2,
   "id": "d7880735",
   "metadata": {},
   "outputs": [],
   "source": [
    "class Perceptron:\n",
    "    def __init__(self, learning_rate=0.1, epochs=100):\n",
    "        self.lr = learning_rate\n",
    "        self.epochs = epochs\n",
    "        self.weights = None\n",
    "        self.bias = None\n",
    "\n",
    "    def activation(self, z):\n",
    "        return 1 if z >= 0 else 0\n",
    "\n",
    "    def fit(self, X, y):\n",
    "        n_samples, n_features = X.shape\n",
    "        self.weights = np.random.rand(n_features)\n",
    "        self.bias = np.random.rand()\n",
    "        \n",
    "        for _ in range(self.epochs):\n",
    "            for i in range(n_samples):\n",
    "                z = np.dot(X[i], self.weights) + self.bias\n",
    "                y_pred = self.activation(z)\n",
    "                error = y[i] - y_pred\n",
    "                self.weights += self.lr * error * X[i]\n",
    "                self.bias += self.lr * error\n",
    "\n",
    "    def predict(self, X):\n",
    "        z = np.dot(X, self.weights) + self.bias\n",
    "        return np.array([self.activation(zi) for zi in z])"
   ]
  },
  {
   "cell_type": "code",
   "execution_count": 3,
   "id": "dfe6e804",
   "metadata": {},
   "outputs": [],
   "source": [
    "# Data for AND gate\n",
    "X_and = np.array([[0, 0], [0, 1], [1, 0], [1, 1]])\n",
    "y_and = np.array([0, 0, 0, 1])"
   ]
  },
  {
   "cell_type": "code",
   "execution_count": 4,
   "id": "b72b5032",
   "metadata": {},
   "outputs": [],
   "source": [
    "# Data for OR gate\n",
    "X_or = np.array([[0, 0], [0, 1], [1, 0], [1, 1]])\n",
    "y_or = np.array([0, 1, 1, 1])"
   ]
  },
  {
   "cell_type": "code",
   "execution_count": 5,
   "id": "c3fe9a97",
   "metadata": {},
   "outputs": [
    {
     "name": "stdout",
     "output_type": "stream",
     "text": [
      "Training Perceptron for AND gate:\n",
      "AND Gate Predictions: [0 0 0 1]\n",
      "AND Gate Weights: [0.26050667 0.12968379] Bias: -0.38628783887039586\n"
     ]
    }
   ],
   "source": [
    "# Train and test AND gate\n",
    "print(\"Training Perceptron for AND gate:\")\n",
    "and_perceptron = Perceptron(learning_rate=0.1, epochs=100)\n",
    "and_perceptron.fit(X_and, y_and)\n",
    "predictions_and = and_perceptron.predict(X_and)\n",
    "print(\"AND Gate Predictions:\", predictions_and)\n",
    "print(\"AND Gate Weights:\", and_perceptron.weights, \"Bias:\", and_perceptron.bias)"
   ]
  },
  {
   "cell_type": "code",
   "execution_count": 6,
   "id": "bca92f1b",
   "metadata": {},
   "outputs": [
    {
     "name": "stdout",
     "output_type": "stream",
     "text": [
      "\n",
      "Training Perceptron for OR gate:\n",
      "OR Gate Predictions: [0 1 1 1]\n",
      "OR Gate Weights: [0.47223509 0.90652439] Bias: -0.0726942328043195\n"
     ]
    }
   ],
   "source": [
    "# Train and test OR gate\n",
    "print(\"\\nTraining Perceptron for OR gate:\")\n",
    "or_perceptron = Perceptron(learning_rate=0.1, epochs=100)\n",
    "or_perceptron.fit(X_or, y_or)\n",
    "predictions_or = or_perceptron.predict(X_or)\n",
    "print(\"OR Gate Predictions:\", predictions_or)\n",
    "print(\"OR Gate Weights:\", or_perceptron.weights, \"Bias:\", or_perceptron.bias)"
   ]
  },
  {
   "cell_type": "code",
   "execution_count": null,
   "id": "37d3f6a5",
   "metadata": {},
   "outputs": [],
   "source": []
  }
 ],
 "metadata": {
  "kernelspec": {
   "display_name": "base",
   "language": "python",
   "name": "python3"
  },
  "language_info": {
   "codemirror_mode": {
    "name": "ipython",
    "version": 3
   },
   "file_extension": ".py",
   "mimetype": "text/x-python",
   "name": "python",
   "nbconvert_exporter": "python",
   "pygments_lexer": "ipython3",
   "version": "3.12.4"
  }
 },
 "nbformat": 4,
 "nbformat_minor": 5
}
