{
 "cells": [
  {
   "cell_type": "code",
   "execution_count": 1,
   "metadata": {},
   "outputs": [],
   "source": [
    "import tensorflow as tf\n",
    "from tensorflow import keras\n",
    "import pandas as pd\n",
    "import numpy as np"
   ]
  },
  {
   "cell_type": "code",
   "execution_count": 3,
   "metadata": {},
   "outputs": [],
   "source": [
    "df = pd.read_csv('titanic.csv')"
   ]
  },
  {
   "cell_type": "code",
   "execution_count": 5,
   "metadata": {},
   "outputs": [],
   "source": [
    "df = df.drop(['PassengerId', 'Name', 'Ticket', 'Cabin'], axis=1)"
   ]
  },
  {
   "cell_type": "code",
   "execution_count": 7,
   "metadata": {},
   "outputs": [
    {
     "name": "stderr",
     "output_type": "stream",
     "text": [
      "C:\\Users\\sajee\\AppData\\Local\\Temp\\ipykernel_20180\\2319829390.py:1: FutureWarning: A value is trying to be set on a copy of a DataFrame or Series through chained assignment using an inplace method.\n",
      "The behavior will change in pandas 3.0. This inplace method will never work because the intermediate object on which we are setting values always behaves as a copy.\n",
      "\n",
      "For example, when doing 'df[col].method(value, inplace=True)', try using 'df.method({col: value}, inplace=True)' or df[col] = df[col].method(value) instead, to perform the operation inplace on the original object.\n",
      "\n",
      "\n",
      "  df[\"Age\"].fillna(df[\"Age\"].median(), inplace=True)\n",
      "C:\\Users\\sajee\\AppData\\Local\\Temp\\ipykernel_20180\\2319829390.py:2: FutureWarning: A value is trying to be set on a copy of a DataFrame or Series through chained assignment using an inplace method.\n",
      "The behavior will change in pandas 3.0. This inplace method will never work because the intermediate object on which we are setting values always behaves as a copy.\n",
      "\n",
      "For example, when doing 'df[col].method(value, inplace=True)', try using 'df.method({col: value}, inplace=True)' or df[col] = df[col].method(value) instead, to perform the operation inplace on the original object.\n",
      "\n",
      "\n",
      "  df[\"Fare\"].fillna(df[\"Fare\"].median(), inplace=True)\n",
      "C:\\Users\\sajee\\AppData\\Local\\Temp\\ipykernel_20180\\2319829390.py:3: FutureWarning: A value is trying to be set on a copy of a DataFrame or Series through chained assignment using an inplace method.\n",
      "The behavior will change in pandas 3.0. This inplace method will never work because the intermediate object on which we are setting values always behaves as a copy.\n",
      "\n",
      "For example, when doing 'df[col].method(value, inplace=True)', try using 'df.method({col: value}, inplace=True)' or df[col] = df[col].method(value) instead, to perform the operation inplace on the original object.\n",
      "\n",
      "\n",
      "  df[\"Embarked\"].fillna(df[\"Embarked\"].mode()[0], inplace=True)\n"
     ]
    }
   ],
   "source": [
    "df[\"Age\"].fillna(df[\"Age\"].median(), inplace=True)\n",
    "df[\"Fare\"].fillna(df[\"Fare\"].median(), inplace=True)\n",
    "df[\"Embarked\"].fillna(df[\"Embarked\"].mode()[0], inplace=True)"
   ]
  },
  {
   "cell_type": "code",
   "execution_count": 9,
   "metadata": {},
   "outputs": [],
   "source": [
    "df[\"Sex\"] = df[\"Sex\"].map({\"male\": 0, \"female\": 1})\n",
    "embarked_dummies = pd.get_dummies(df[\"Embarked\"], prefix=\"Embarked\", drop_first=True)\n",
    "df = pd.concat([df, embarked_dummies], axis=1).drop(columns=[\"Embarked\"])"
   ]
  },
  {
   "cell_type": "code",
   "execution_count": 11,
   "metadata": {},
   "outputs": [],
   "source": [
    "df[\"Age\"] = (df[\"Age\"] - df[\"Age\"].mean()) / df[\"Age\"].std()\n",
    "df[\"Fare\"] = (df[\"Fare\"] - df[\"Fare\"].mean()) / df[\"Fare\"].std()"
   ]
  },
  {
   "cell_type": "code",
   "execution_count": 13,
   "metadata": {},
   "outputs": [],
   "source": [
    "X = df.drop(columns=[\"Survived\"]).values.astype(np.float32)\n",
    "y = keras.utils.to_categorical(df[\"Survived\"].values, num_classes=2)"
   ]
  },
  {
   "cell_type": "code",
   "execution_count": 15,
   "metadata": {},
   "outputs": [],
   "source": [
    "split_idx = int(0.8 * len(X))\n",
    "X_train, X_test = X[:split_idx], X[split_idx:]\n",
    "y_train, y_test = y[:split_idx], y[split_idx:]"
   ]
  },
  {
   "cell_type": "code",
   "execution_count": 17,
   "metadata": {},
   "outputs": [],
   "source": [
    "def create_mlp(input_shape):\n",
    "    model = keras.Sequential([\n",
    "        keras.layers.Dense(64, activation=\"relu\", input_shape=(input_shape,)),\n",
    "        keras.layers.Dense(32, activation=\"relu\"),\n",
    "        keras.layers.Dense(2, activation=\"softmax\")  # Multi-class classification\n",
    "    ])\n",
    "    return model"
   ]
  },
  {
   "cell_type": "code",
   "execution_count": 19,
   "metadata": {},
   "outputs": [],
   "source": [
    "optimizers = {\n",
    "    \"SGD\": keras.optimizers.SGD(learning_rate=0.01),\n",
    "    \"Momentum\": keras.optimizers.SGD(learning_rate=0.01, momentum=0.9),\n",
    "    \"NAG\": keras.optimizers.SGD(learning_rate=0.01, momentum=0.9, nesterov=True),\n",
    "    \"Adam\": keras.optimizers.Adam(learning_rate=0.001),\n",
    "    \"RMSprop\": keras.optimizers.RMSprop(learning_rate=0.001),\n",
    "    \"Adagrad\": keras.optimizers.Adagrad(learning_rate=0.01),\n",
    "    \"Adadelta\": keras.optimizers.Adadelta(learning_rate=1.0),\n",
    "    \"Nadam\": keras.optimizers.Nadam(learning_rate=0.001),\n",
    "}"
   ]
  },
  {
   "cell_type": "code",
   "execution_count": 21,
   "metadata": {},
   "outputs": [],
   "source": [
    "def get_lr_schedule(schedule_type):\n",
    "    if schedule_type == \"StepDecay\":\n",
    "        return keras.optimizers.schedules.PiecewiseConstantDecay([5, 10], [0.01, 0.005, 0.001])\n",
    "    elif schedule_type == \"ExponentialDecay\":\n",
    "        return keras.optimizers.schedules.ExponentialDecay(initial_learning_rate=0.01, decay_steps=1000, decay_rate=0.96)\n",
    "    elif schedule_type == \"PiecewiseConstantDecay\":\n",
    "        return keras.optimizers.schedules.PiecewiseConstantDecay([5000, 10000], [0.01, 0.005, 0.001])\n",
    "    elif schedule_type == \"CosineDecay\":\n",
    "        return keras.optimizers.schedules.CosineDecay(initial_learning_rate=0.01, decay_steps=10000, alpha=0.1)\n",
    "    return 0.01"
   ]
  },
  {
   "cell_type": "code",
   "execution_count": null,
   "metadata": {},
   "outputs": [
    {
     "name": "stdout",
     "output_type": "stream",
     "text": [
      "Training with SGD + StepDecay...\n"
     ]
    },
    {
     "name": "stderr",
     "output_type": "stream",
     "text": [
      "C:\\Users\\sajee\\anaconda3\\Lib\\site-packages\\keras\\src\\layers\\core\\dense.py:87: UserWarning: Do not pass an `input_shape`/`input_dim` argument to a layer. When using Sequential models, prefer using an `Input(shape)` object as the first layer in the model instead.\n",
      "  super().__init__(activity_regularizer=activity_regularizer, **kwargs)\n"
     ]
    },
    {
     "name": "stdout",
     "output_type": "stream",
     "text": [
      "Training with SGD + ExponentialDecay...\n",
      "Training with SGD + PiecewiseConstantDecay...\n",
      "Training with SGD + CosineDecay...\n",
      "Training with Momentum + StepDecay...\n",
      "Training with Momentum + ExponentialDecay...\n",
      "Training with Momentum + PiecewiseConstantDecay...\n",
      "Training with Momentum + CosineDecay...\n",
      "Training with NAG + StepDecay...\n",
      "Training with NAG + ExponentialDecay...\n",
      "Training with NAG + PiecewiseConstantDecay...\n",
      "Training with NAG + CosineDecay...\n",
      "Training with Adam + StepDecay...\n"
     ]
    }
   ],
   "source": [
    "results = {}\n",
    "for opt_name, optimizer in optimizers.items():\n",
    "    for schedule_name in [\"StepDecay\", \"ExponentialDecay\", \"PiecewiseConstantDecay\", \"CosineDecay\"]:\n",
    "        print(f\"Training with {opt_name} + {schedule_name}...\")\n",
    "\n",
    "        \n",
    "        model = create_mlp(X_train.shape[1])\n",
    "\n",
    "        \n",
    "        model.compile(\n",
    "            optimizer=keras.optimizers.Adam(learning_rate=get_lr_schedule(schedule_name)),\n",
    "            loss=\"categorical_crossentropy\",\n",
    "            metrics=[\"accuracy\"]\n",
    "        )\n",
    "\n",
    "        \n",
    "        history = model.fit(X_train, y_train, validation_data=(X_test, y_test), epochs=15, batch_size=32, verbose=0)\n",
    "\n",
    "        \n",
    "        final_accuracy = history.history[\"val_accuracy\"][-1]\n",
    "        results[f\"{opt_name} + {schedule_name}\"] = final_accuracy\n",
    "\n",
    "\n",
    "print(\"\\nFinal Accuracy Results:\")\n",
    "for key, value in results.items():\n",
    "    print(f\"{key}: {value:.4f}\")"
   ]
  },
  {
   "cell_type": "code",
   "execution_count": null,
   "metadata": {},
   "outputs": [],
   "source": []
  }
 ],
 "metadata": {
  "kernelspec": {
   "display_name": "Python 3 (ipykernel)",
   "language": "python",
   "name": "python3"
  },
  "language_info": {
   "codemirror_mode": {
    "name": "ipython",
    "version": 3
   },
   "file_extension": ".py",
   "mimetype": "text/x-python",
   "name": "python",
   "nbconvert_exporter": "python",
   "pygments_lexer": "ipython3",
   "version": "3.12.4"
  }
 },
 "nbformat": 4,
 "nbformat_minor": 4
}
